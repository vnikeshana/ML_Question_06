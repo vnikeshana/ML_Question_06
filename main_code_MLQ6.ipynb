{
  "nbformat": 4,
  "nbformat_minor": 0,
  "metadata": {
    "colab": {
      "provenance": [],
      "authorship_tag": "ABX9TyMFqXQAQ8Ehabp1WJsLOOQ5",
      "include_colab_link": true
    },
    "kernelspec": {
      "name": "python3",
      "display_name": "Python 3"
    },
    "language_info": {
      "name": "python"
    }
  },
  "cells": [
    {
      "cell_type": "markdown",
      "metadata": {
        "id": "view-in-github",
        "colab_type": "text"
      },
      "source": [
        "<a href=\"https://colab.research.google.com/github/vnikeshana/ML_Question_06/blob/main/main_code_MLQ6.ipynb\" target=\"_parent\"><img src=\"https://colab.research.google.com/assets/colab-badge.svg\" alt=\"Open In Colab\"/></a>"
      ]
    },
    {
      "cell_type": "code",
      "execution_count": null,
      "metadata": {
        "id": "35GAvr5w6XFC"
      },
      "outputs": [],
      "source": [
        "import os\n",
        "import pickle\n",
        "import copy\n",
        "import pandas as pd\n",
        "import numpy as np\n",
        "from sklearn.preprocessing import MinMaxScaler, LabelEncoder\n",
        "\n",
        "import matplotlib.pyplot as plt"
      ]
    },
    {
      "cell_type": "code",
      "source": [
        "from google.colab import drive\n",
        "drive.mount('/content/drive')"
      ],
      "metadata": {
        "colab": {
          "base_uri": "https://localhost:8080/"
        },
        "collapsed": true,
        "id": "1ut9AiXD7C6r",
        "outputId": "8d91dc9a-aa82-485a-e93a-aca2a92b441f"
      },
      "execution_count": null,
      "outputs": [
        {
          "output_type": "stream",
          "name": "stdout",
          "text": [
            "Drive already mounted at /content/drive; to attempt to forcibly remount, call drive.mount(\"/content/drive\", force_remount=True).\n"
          ]
        }
      ]
    },
    {
      "cell_type": "code",
      "source": [
        "\n",
        "%cd drive/MyDrive/Customs-Declaration-Datasets-en/"
      ],
      "metadata": {
        "colab": {
          "base_uri": "https://localhost:8080/"
        },
        "id": "s4DEOKWo7StL",
        "outputId": "6736ef83-ca36-43f0-ee8e-e254dd7be0af"
      },
      "execution_count": null,
      "outputs": [
        {
          "output_type": "stream",
          "name": "stdout",
          "text": [
            "[Errno 2] No such file or directory: 'drive/MyDrive/Customs-Declaration-Datasets-en/'\n",
            "/content\n"
          ]
        }
      ]
    },
    {
      "cell_type": "code",
      "source": [
        "class label_encoder(object):\n",
        "    def fit_pd(self,df,cols=[]):\n",
        "        if len(cols) == 0:\n",
        "            cols = df.columns\n",
        "        self.class_index = {}\n",
        "        for f in cols:\n",
        "            uf = df[f].unique()\n",
        "            self.class_index[f] = {}\n",
        "            index = 1\n",
        "            for item in uf:\n",
        "                self.class_index[f][item] = index\n",
        "                index += 1\n",
        "\n",
        "    def fit_transform_pd(self,df,cols=[]):\n",
        "        if len(cols) == 0:\n",
        "            cols = df.columns\n",
        "        newdf = copy.deepcopy(df)\n",
        "        self.class_index = {}\n",
        "        for f in cols:\n",
        "            uf = df[f].unique()\n",
        "            self.class_index[f] = {}\n",
        "            index = 1\n",
        "            for item in uf:\n",
        "                self.class_index[f][item] = index\n",
        "                index += 1\n",
        "\n",
        "            newdf[f] = df[f].apply(lambda d: self.update_label(f,d))\n",
        "        return newdf\n",
        "\n",
        "    def transform_pd(self,df,cols=[]):\n",
        "        newdf = copy.deepcopy(df)\n",
        "        if len(cols) == 0:\n",
        "            cols = df.columns\n",
        "        for f in cols:\n",
        "            if f in self.class_index:\n",
        "                newdf[f] = df[f].apply(lambda d: self.update_label(f,d))\n",
        "        return newdf\n",
        "\n",
        "    def update_label(self,f,x):\n",
        "        try:\n",
        "            return self.class_index[f][x]\n",
        "        except:\n",
        "            self.class_index[f][x] = max(self.class_index[f].values())+1\n",
        "            return self.class_index[f][x]"
      ],
      "metadata": {
        "id": "9Rs6Bsiq7kjx"
      },
      "execution_count": null,
      "outputs": []
    },
    {
      "cell_type": "code",
      "source": [
        "def min_max_scaler(df, numerical_columns, scaler_path):\n",
        "    df = df.loc[:, numerical_columns].copy()\n",
        "    scalers = {}\n",
        "    mm_sclaers = []\n",
        "    # Set Minmax scaler\n",
        "    if not os.path.exists(scaler_path):\n",
        "        print('Make a New Min Max Scaler')\n",
        "\n",
        "        # Scale for each Numeric Columns\n",
        "        for col in numerical_columns:\n",
        "            mm_sclaer = MinMaxScaler()\n",
        "\n",
        "            # Fit the scaler\n",
        "            mm_sclaer.fit(df.loc[:, [col]])\n",
        "            mm_sclaers.append(mm_sclaer)\n",
        "\n",
        "            # Normalize each value between 0~1 using the scaler\n",
        "            df.loc[:, col] = mm_sclaer.transform(df.loc[:, [col]])\n",
        "            scalers[col] = mm_sclaer\n",
        "\n",
        "        # Store the encoder\n",
        "        f = open(scaler_path, 'wb')\n",
        "        pickle.dump(scalers, f)\n",
        "\n",
        "    else:\n",
        "        print('Normalize with existing Min Max Scaler')\n",
        "        # load scalers\n",
        "        f = open(scaler_path, 'rb')\n",
        "        scalers = pickle.load(f)\n",
        "\n",
        "        # Normalize each value between 0~1 using loaded scaler\n",
        "        for col in numerical_columns:\n",
        "            mm_scaler = scalers[col]\n",
        "            df.loc[:, col] = mm_scaler.transform(df.loc[:, [col]])\n",
        "\n",
        "    return df, scalers"
      ],
      "metadata": {
        "id": "b90X13qR85u_"
      },
      "execution_count": null,
      "outputs": []
    },
    {
      "cell_type": "code",
      "source": [
        "from google.colab import drive\n",
        "drive.mount('/content/drive')"
      ],
      "metadata": {
        "colab": {
          "base_uri": "https://localhost:8080/"
        },
        "id": "jerxTQXH884L",
        "outputId": "7407210a-2ca2-4484-d6c0-c1b14fc05cba"
      },
      "execution_count": null,
      "outputs": [
        {
          "output_type": "stream",
          "name": "stdout",
          "text": [
            "Drive already mounted at /content/drive; to attempt to forcibly remount, call drive.mount(\"/content/drive\", force_remount=True).\n"
          ]
        }
      ]
    },
    {
      "cell_type": "code",
      "source": [
        "!ls"
      ],
      "metadata": {
        "colab": {
          "base_uri": "https://localhost:8080/"
        },
        "id": "zCeMBARD-0Iw",
        "outputId": "6cf54435-b776-49a6-f352-423627b515af"
      },
      "execution_count": null,
      "outputs": [
        {
          "output_type": "stream",
          "name": "stdout",
          "text": [
            "drive  sample_data\n"
          ]
        }
      ]
    },
    {
      "cell_type": "code",
      "source": [
        "from google.colab import drive\n",
        "drive.mount('/content/drive')\n"
      ],
      "metadata": {
        "colab": {
          "base_uri": "https://localhost:8080/"
        },
        "id": "PpKl_YGHATtX",
        "outputId": "b552cc7b-556f-4371-b371-f439ff8dc1a5"
      },
      "execution_count": null,
      "outputs": [
        {
          "output_type": "stream",
          "name": "stdout",
          "text": [
            "Drive already mounted at /content/drive; to attempt to forcibly remount, call drive.mount(\"/content/drive\", force_remount=True).\n"
          ]
        }
      ]
    },
    {
      "cell_type": "code",
      "source": [
        "!ls /content/drive/My\\ Drive/"
      ],
      "metadata": {
        "colab": {
          "base_uri": "https://localhost:8080/"
        },
        "id": "ZSXOHFhDBJPL",
        "outputId": "6b9a335a-5a0f-4cd0-f05a-358f36097fff"
      },
      "execution_count": null,
      "outputs": [
        {
          "output_type": "stream",
          "name": "stdout",
          "text": [
            "'0000 Pending case summery.xlsx'\n",
            " Books\n",
            " Certificates\n",
            " Classroom\n",
            "'Colab Notebooks'\n",
            " Communication.xlsx\n",
            "'Copy of Template Article Proceeding_4th WCO RTC Indonesia International Conference 2024.docx'\n",
            "'Copy of Template Article Proceeding_4th WCO RTC Indonesia International Conference 2024.gdoc'\n",
            "'Current Affairs'\n",
            "'Format to Submit Independent Studies Titles.doc'\n",
            " IELTS\n",
            " IMG_20201221_160223.jpg\n",
            " IMG-20220318-WA0000.jpg\n",
            " KAndy.xlsx\n",
            " Magammana.xlsx\n",
            " MSC\n",
            "'M.Sc. Data Science'\n",
            " Project.rar\n",
            "'Recovery Details 2022 OIC.gsheet'\n",
            "'RESEARCH M.M.V.N. Nandasena Final Report.pdf'\n",
            " RTF\n",
            "'Vihanga Nikeshana'\n",
            " VISA\n",
            "'VISA SG and MY'\n"
          ]
        }
      ]
    },
    {
      "cell_type": "code",
      "source": [
        "!ls /content/drive/My\\ Drive/MSC/"
      ],
      "metadata": {
        "colab": {
          "base_uri": "https://localhost:8080/"
        },
        "id": "JaC0Q7QKBO9z",
        "outputId": "d2b797cd-456d-41d5-a5d6-2fcb8456047e"
      },
      "execution_count": null,
      "outputs": [
        {
          "output_type": "stream",
          "name": "stdout",
          "text": [
            "Data_Mining  ML\n"
          ]
        }
      ]
    },
    {
      "cell_type": "code",
      "source": [
        "!ls /content/drive/My\\ Drive/MSC/ML"
      ],
      "metadata": {
        "colab": {
          "base_uri": "https://localhost:8080/"
        },
        "id": "8dp6LNW6BjlL",
        "outputId": "2a55f576-7cd9-4949-d0a2-e5ebaa1f70c2"
      },
      "execution_count": null,
      "outputs": [
        {
          "output_type": "stream",
          "name": "stdout",
          "text": [
            "df_syn_eng.csv\n"
          ]
        }
      ]
    },
    {
      "cell_type": "code",
      "source": [
        "file_path = '/content/drive/My Drive/MSC/ML/df_syn_eng.csv'\n",
        "df = pd.read_csv(file_path)"
      ],
      "metadata": {
        "id": "tNfDImTGFByU"
      },
      "execution_count": null,
      "outputs": []
    },
    {
      "cell_type": "code",
      "source": [
        "df.head(12)"
      ],
      "metadata": {
        "colab": {
          "base_uri": "https://localhost:8080/",
          "height": 718
        },
        "id": "zc7_g7I_FbfG",
        "outputId": "44eb4151-011c-4b57-812a-2e3cd248cdfc"
      },
      "execution_count": null,
      "outputs": [
        {
          "output_type": "execute_result",
          "data": {
            "text/plain": [
              "    Declaration ID        Date  Office ID Process Type  Import Type  \\\n",
              "0         97061800  2020-01-01         30            B           11   \n",
              "1         85945189  2020-01-01         40            B           11   \n",
              "2         77854751  2020-01-01         20            B           11   \n",
              "3         46925060  2020-01-01         40            B           11   \n",
              "4         34131149  2020-01-01         20            B           11   \n",
              "5         38459034  2020-01-01         40            B           11   \n",
              "6         69602841  2020-01-01         40            B           11   \n",
              "7         94070719  2020-01-01         10            B           80   \n",
              "8         28079013  2020-01-01         13            B           11   \n",
              "9         66853714  2020-01-01         30            B           11   \n",
              "10        19246049  2020-01-01         20            B           11   \n",
              "11        14879976  2020-01-01         30            B           11   \n",
              "\n",
              "    Import Use  Payment Type  Mode of Transport Declarant ID Importer ID  ...  \\\n",
              "0           21            11                 10      ZZR1LT6     QLRUBN9  ...   \n",
              "1           21            11                 40      SWF9S4X     7JD1S2X  ...   \n",
              "2           21            11                 40      X4XT6P8     WI9O3I5  ...   \n",
              "3           21            43                 40      K7LCQTZ     6LI9721  ...   \n",
              "4           21            11                 10      1HMVIVH     RZ871V1  ...   \n",
              "5           21            11                 10      OZB7KED     2EIESGV  ...   \n",
              "6           21            43                 40      3BTA0QN     US268D0  ...   \n",
              "7           26            11                 40      YEVMXEV     EAPRJGG  ...   \n",
              "8           21            11                 40      MP58TZN     OQGTRGJ  ...   \n",
              "9           21            11                 40      P0PG8TK     FI22XB4  ...   \n",
              "10          21            11                 10      TLY6XIA     NM5XD6W  ...   \n",
              "11          21            11                 10      H3RWZG0     KRQQAFQ  ...   \n",
              "\n",
              "   HS6 Code Country of Departure  Country of Origin Tax Rate Tax Type  \\\n",
              "0    440890                   BE                 BE      0.0     FEU1   \n",
              "1    690722                   CN                 CN      8.0        A   \n",
              "2    620822                   CN                 CN      5.2     FCN1   \n",
              "3    940350                   VN                 VN      0.0        C   \n",
              "4     71080                   VN                 VN     27.0        A   \n",
              "5    851712                   SG                 CN      0.0        C   \n",
              "6    391000                   AZ                 DE      6.5        C   \n",
              "7    220870                   CN                 CN     12.0     FCN1   \n",
              "8    853670                   US                 US      0.0     FUS1   \n",
              "9    940180                   CN                 CN      0.0        C   \n",
              "10   220429                   IT                 IT     15.0        F   \n",
              "11   851762                   CN                 CN      0.0        C   \n",
              "\n",
              "    Country of Origin Indicator Net Mass  Item Price  Fraud  Critical Fraud  \n",
              "0                             G    108.0   372254.40      0               0  \n",
              "1                             Y  11352.0   375751.20      0               0  \n",
              "2                             B     20.7     5353.02      0               0  \n",
              "3                             Y   9218.0  1477645.40      0               0  \n",
              "4                             B  24000.0  6364800.00      0               0  \n",
              "5                             S      2.0    29078.80      1               1  \n",
              "6                             E     25.0    10765.00      0               0  \n",
              "7                             Y    500.0    78900.00      0               0  \n",
              "8                             B      0.2      241.58      0               0  \n",
              "9                             G   2053.0     2463.60      0               0  \n",
              "10                            E      7.7     3151.61      0               0  \n",
              "11                            S   1057.2   153294.00      0               0  \n",
              "\n",
              "[12 rows x 22 columns]"
            ],
            "text/html": [
              "\n",
              "  <div id=\"df-0f80421b-365e-4547-aeb6-cbd34d0ab6ac\" class=\"colab-df-container\">\n",
              "    <div>\n",
              "<style scoped>\n",
              "    .dataframe tbody tr th:only-of-type {\n",
              "        vertical-align: middle;\n",
              "    }\n",
              "\n",
              "    .dataframe tbody tr th {\n",
              "        vertical-align: top;\n",
              "    }\n",
              "\n",
              "    .dataframe thead th {\n",
              "        text-align: right;\n",
              "    }\n",
              "</style>\n",
              "<table border=\"1\" class=\"dataframe\">\n",
              "  <thead>\n",
              "    <tr style=\"text-align: right;\">\n",
              "      <th></th>\n",
              "      <th>Declaration ID</th>\n",
              "      <th>Date</th>\n",
              "      <th>Office ID</th>\n",
              "      <th>Process Type</th>\n",
              "      <th>Import Type</th>\n",
              "      <th>Import Use</th>\n",
              "      <th>Payment Type</th>\n",
              "      <th>Mode of Transport</th>\n",
              "      <th>Declarant ID</th>\n",
              "      <th>Importer ID</th>\n",
              "      <th>...</th>\n",
              "      <th>HS6 Code</th>\n",
              "      <th>Country of Departure</th>\n",
              "      <th>Country of Origin</th>\n",
              "      <th>Tax Rate</th>\n",
              "      <th>Tax Type</th>\n",
              "      <th>Country of Origin Indicator</th>\n",
              "      <th>Net Mass</th>\n",
              "      <th>Item Price</th>\n",
              "      <th>Fraud</th>\n",
              "      <th>Critical Fraud</th>\n",
              "    </tr>\n",
              "  </thead>\n",
              "  <tbody>\n",
              "    <tr>\n",
              "      <th>0</th>\n",
              "      <td>97061800</td>\n",
              "      <td>2020-01-01</td>\n",
              "      <td>30</td>\n",
              "      <td>B</td>\n",
              "      <td>11</td>\n",
              "      <td>21</td>\n",
              "      <td>11</td>\n",
              "      <td>10</td>\n",
              "      <td>ZZR1LT6</td>\n",
              "      <td>QLRUBN9</td>\n",
              "      <td>...</td>\n",
              "      <td>440890</td>\n",
              "      <td>BE</td>\n",
              "      <td>BE</td>\n",
              "      <td>0.0</td>\n",
              "      <td>FEU1</td>\n",
              "      <td>G</td>\n",
              "      <td>108.0</td>\n",
              "      <td>372254.40</td>\n",
              "      <td>0</td>\n",
              "      <td>0</td>\n",
              "    </tr>\n",
              "    <tr>\n",
              "      <th>1</th>\n",
              "      <td>85945189</td>\n",
              "      <td>2020-01-01</td>\n",
              "      <td>40</td>\n",
              "      <td>B</td>\n",
              "      <td>11</td>\n",
              "      <td>21</td>\n",
              "      <td>11</td>\n",
              "      <td>40</td>\n",
              "      <td>SWF9S4X</td>\n",
              "      <td>7JD1S2X</td>\n",
              "      <td>...</td>\n",
              "      <td>690722</td>\n",
              "      <td>CN</td>\n",
              "      <td>CN</td>\n",
              "      <td>8.0</td>\n",
              "      <td>A</td>\n",
              "      <td>Y</td>\n",
              "      <td>11352.0</td>\n",
              "      <td>375751.20</td>\n",
              "      <td>0</td>\n",
              "      <td>0</td>\n",
              "    </tr>\n",
              "    <tr>\n",
              "      <th>2</th>\n",
              "      <td>77854751</td>\n",
              "      <td>2020-01-01</td>\n",
              "      <td>20</td>\n",
              "      <td>B</td>\n",
              "      <td>11</td>\n",
              "      <td>21</td>\n",
              "      <td>11</td>\n",
              "      <td>40</td>\n",
              "      <td>X4XT6P8</td>\n",
              "      <td>WI9O3I5</td>\n",
              "      <td>...</td>\n",
              "      <td>620822</td>\n",
              "      <td>CN</td>\n",
              "      <td>CN</td>\n",
              "      <td>5.2</td>\n",
              "      <td>FCN1</td>\n",
              "      <td>B</td>\n",
              "      <td>20.7</td>\n",
              "      <td>5353.02</td>\n",
              "      <td>0</td>\n",
              "      <td>0</td>\n",
              "    </tr>\n",
              "    <tr>\n",
              "      <th>3</th>\n",
              "      <td>46925060</td>\n",
              "      <td>2020-01-01</td>\n",
              "      <td>40</td>\n",
              "      <td>B</td>\n",
              "      <td>11</td>\n",
              "      <td>21</td>\n",
              "      <td>43</td>\n",
              "      <td>40</td>\n",
              "      <td>K7LCQTZ</td>\n",
              "      <td>6LI9721</td>\n",
              "      <td>...</td>\n",
              "      <td>940350</td>\n",
              "      <td>VN</td>\n",
              "      <td>VN</td>\n",
              "      <td>0.0</td>\n",
              "      <td>C</td>\n",
              "      <td>Y</td>\n",
              "      <td>9218.0</td>\n",
              "      <td>1477645.40</td>\n",
              "      <td>0</td>\n",
              "      <td>0</td>\n",
              "    </tr>\n",
              "    <tr>\n",
              "      <th>4</th>\n",
              "      <td>34131149</td>\n",
              "      <td>2020-01-01</td>\n",
              "      <td>20</td>\n",
              "      <td>B</td>\n",
              "      <td>11</td>\n",
              "      <td>21</td>\n",
              "      <td>11</td>\n",
              "      <td>10</td>\n",
              "      <td>1HMVIVH</td>\n",
              "      <td>RZ871V1</td>\n",
              "      <td>...</td>\n",
              "      <td>71080</td>\n",
              "      <td>VN</td>\n",
              "      <td>VN</td>\n",
              "      <td>27.0</td>\n",
              "      <td>A</td>\n",
              "      <td>B</td>\n",
              "      <td>24000.0</td>\n",
              "      <td>6364800.00</td>\n",
              "      <td>0</td>\n",
              "      <td>0</td>\n",
              "    </tr>\n",
              "    <tr>\n",
              "      <th>5</th>\n",
              "      <td>38459034</td>\n",
              "      <td>2020-01-01</td>\n",
              "      <td>40</td>\n",
              "      <td>B</td>\n",
              "      <td>11</td>\n",
              "      <td>21</td>\n",
              "      <td>11</td>\n",
              "      <td>10</td>\n",
              "      <td>OZB7KED</td>\n",
              "      <td>2EIESGV</td>\n",
              "      <td>...</td>\n",
              "      <td>851712</td>\n",
              "      <td>SG</td>\n",
              "      <td>CN</td>\n",
              "      <td>0.0</td>\n",
              "      <td>C</td>\n",
              "      <td>S</td>\n",
              "      <td>2.0</td>\n",
              "      <td>29078.80</td>\n",
              "      <td>1</td>\n",
              "      <td>1</td>\n",
              "    </tr>\n",
              "    <tr>\n",
              "      <th>6</th>\n",
              "      <td>69602841</td>\n",
              "      <td>2020-01-01</td>\n",
              "      <td>40</td>\n",
              "      <td>B</td>\n",
              "      <td>11</td>\n",
              "      <td>21</td>\n",
              "      <td>43</td>\n",
              "      <td>40</td>\n",
              "      <td>3BTA0QN</td>\n",
              "      <td>US268D0</td>\n",
              "      <td>...</td>\n",
              "      <td>391000</td>\n",
              "      <td>AZ</td>\n",
              "      <td>DE</td>\n",
              "      <td>6.5</td>\n",
              "      <td>C</td>\n",
              "      <td>E</td>\n",
              "      <td>25.0</td>\n",
              "      <td>10765.00</td>\n",
              "      <td>0</td>\n",
              "      <td>0</td>\n",
              "    </tr>\n",
              "    <tr>\n",
              "      <th>7</th>\n",
              "      <td>94070719</td>\n",
              "      <td>2020-01-01</td>\n",
              "      <td>10</td>\n",
              "      <td>B</td>\n",
              "      <td>80</td>\n",
              "      <td>26</td>\n",
              "      <td>11</td>\n",
              "      <td>40</td>\n",
              "      <td>YEVMXEV</td>\n",
              "      <td>EAPRJGG</td>\n",
              "      <td>...</td>\n",
              "      <td>220870</td>\n",
              "      <td>CN</td>\n",
              "      <td>CN</td>\n",
              "      <td>12.0</td>\n",
              "      <td>FCN1</td>\n",
              "      <td>Y</td>\n",
              "      <td>500.0</td>\n",
              "      <td>78900.00</td>\n",
              "      <td>0</td>\n",
              "      <td>0</td>\n",
              "    </tr>\n",
              "    <tr>\n",
              "      <th>8</th>\n",
              "      <td>28079013</td>\n",
              "      <td>2020-01-01</td>\n",
              "      <td>13</td>\n",
              "      <td>B</td>\n",
              "      <td>11</td>\n",
              "      <td>21</td>\n",
              "      <td>11</td>\n",
              "      <td>40</td>\n",
              "      <td>MP58TZN</td>\n",
              "      <td>OQGTRGJ</td>\n",
              "      <td>...</td>\n",
              "      <td>853670</td>\n",
              "      <td>US</td>\n",
              "      <td>US</td>\n",
              "      <td>0.0</td>\n",
              "      <td>FUS1</td>\n",
              "      <td>B</td>\n",
              "      <td>0.2</td>\n",
              "      <td>241.58</td>\n",
              "      <td>0</td>\n",
              "      <td>0</td>\n",
              "    </tr>\n",
              "    <tr>\n",
              "      <th>9</th>\n",
              "      <td>66853714</td>\n",
              "      <td>2020-01-01</td>\n",
              "      <td>30</td>\n",
              "      <td>B</td>\n",
              "      <td>11</td>\n",
              "      <td>21</td>\n",
              "      <td>11</td>\n",
              "      <td>40</td>\n",
              "      <td>P0PG8TK</td>\n",
              "      <td>FI22XB4</td>\n",
              "      <td>...</td>\n",
              "      <td>940180</td>\n",
              "      <td>CN</td>\n",
              "      <td>CN</td>\n",
              "      <td>0.0</td>\n",
              "      <td>C</td>\n",
              "      <td>G</td>\n",
              "      <td>2053.0</td>\n",
              "      <td>2463.60</td>\n",
              "      <td>0</td>\n",
              "      <td>0</td>\n",
              "    </tr>\n",
              "    <tr>\n",
              "      <th>10</th>\n",
              "      <td>19246049</td>\n",
              "      <td>2020-01-01</td>\n",
              "      <td>20</td>\n",
              "      <td>B</td>\n",
              "      <td>11</td>\n",
              "      <td>21</td>\n",
              "      <td>11</td>\n",
              "      <td>10</td>\n",
              "      <td>TLY6XIA</td>\n",
              "      <td>NM5XD6W</td>\n",
              "      <td>...</td>\n",
              "      <td>220429</td>\n",
              "      <td>IT</td>\n",
              "      <td>IT</td>\n",
              "      <td>15.0</td>\n",
              "      <td>F</td>\n",
              "      <td>E</td>\n",
              "      <td>7.7</td>\n",
              "      <td>3151.61</td>\n",
              "      <td>0</td>\n",
              "      <td>0</td>\n",
              "    </tr>\n",
              "    <tr>\n",
              "      <th>11</th>\n",
              "      <td>14879976</td>\n",
              "      <td>2020-01-01</td>\n",
              "      <td>30</td>\n",
              "      <td>B</td>\n",
              "      <td>11</td>\n",
              "      <td>21</td>\n",
              "      <td>11</td>\n",
              "      <td>10</td>\n",
              "      <td>H3RWZG0</td>\n",
              "      <td>KRQQAFQ</td>\n",
              "      <td>...</td>\n",
              "      <td>851762</td>\n",
              "      <td>CN</td>\n",
              "      <td>CN</td>\n",
              "      <td>0.0</td>\n",
              "      <td>C</td>\n",
              "      <td>S</td>\n",
              "      <td>1057.2</td>\n",
              "      <td>153294.00</td>\n",
              "      <td>0</td>\n",
              "      <td>0</td>\n",
              "    </tr>\n",
              "  </tbody>\n",
              "</table>\n",
              "<p>12 rows × 22 columns</p>\n",
              "</div>\n",
              "    <div class=\"colab-df-buttons\">\n",
              "\n",
              "  <div class=\"colab-df-container\">\n",
              "    <button class=\"colab-df-convert\" onclick=\"convertToInteractive('df-0f80421b-365e-4547-aeb6-cbd34d0ab6ac')\"\n",
              "            title=\"Convert this dataframe to an interactive table.\"\n",
              "            style=\"display:none;\">\n",
              "\n",
              "  <svg xmlns=\"http://www.w3.org/2000/svg\" height=\"24px\" viewBox=\"0 -960 960 960\">\n",
              "    <path d=\"M120-120v-720h720v720H120Zm60-500h600v-160H180v160Zm220 220h160v-160H400v160Zm0 220h160v-160H400v160ZM180-400h160v-160H180v160Zm440 0h160v-160H620v160ZM180-180h160v-160H180v160Zm440 0h160v-160H620v160Z\"/>\n",
              "  </svg>\n",
              "    </button>\n",
              "\n",
              "  <style>\n",
              "    .colab-df-container {\n",
              "      display:flex;\n",
              "      gap: 12px;\n",
              "    }\n",
              "\n",
              "    .colab-df-convert {\n",
              "      background-color: #E8F0FE;\n",
              "      border: none;\n",
              "      border-radius: 50%;\n",
              "      cursor: pointer;\n",
              "      display: none;\n",
              "      fill: #1967D2;\n",
              "      height: 32px;\n",
              "      padding: 0 0 0 0;\n",
              "      width: 32px;\n",
              "    }\n",
              "\n",
              "    .colab-df-convert:hover {\n",
              "      background-color: #E2EBFA;\n",
              "      box-shadow: 0px 1px 2px rgba(60, 64, 67, 0.3), 0px 1px 3px 1px rgba(60, 64, 67, 0.15);\n",
              "      fill: #174EA6;\n",
              "    }\n",
              "\n",
              "    .colab-df-buttons div {\n",
              "      margin-bottom: 4px;\n",
              "    }\n",
              "\n",
              "    [theme=dark] .colab-df-convert {\n",
              "      background-color: #3B4455;\n",
              "      fill: #D2E3FC;\n",
              "    }\n",
              "\n",
              "    [theme=dark] .colab-df-convert:hover {\n",
              "      background-color: #434B5C;\n",
              "      box-shadow: 0px 1px 3px 1px rgba(0, 0, 0, 0.15);\n",
              "      filter: drop-shadow(0px 1px 2px rgba(0, 0, 0, 0.3));\n",
              "      fill: #FFFFFF;\n",
              "    }\n",
              "  </style>\n",
              "\n",
              "    <script>\n",
              "      const buttonEl =\n",
              "        document.querySelector('#df-0f80421b-365e-4547-aeb6-cbd34d0ab6ac button.colab-df-convert');\n",
              "      buttonEl.style.display =\n",
              "        google.colab.kernel.accessAllowed ? 'block' : 'none';\n",
              "\n",
              "      async function convertToInteractive(key) {\n",
              "        const element = document.querySelector('#df-0f80421b-365e-4547-aeb6-cbd34d0ab6ac');\n",
              "        const dataTable =\n",
              "          await google.colab.kernel.invokeFunction('convertToInteractive',\n",
              "                                                    [key], {});\n",
              "        if (!dataTable) return;\n",
              "\n",
              "        const docLinkHtml = 'Like what you see? Visit the ' +\n",
              "          '<a target=\"_blank\" href=https://colab.research.google.com/notebooks/data_table.ipynb>data table notebook</a>'\n",
              "          + ' to learn more about interactive tables.';\n",
              "        element.innerHTML = '';\n",
              "        dataTable['output_type'] = 'display_data';\n",
              "        await google.colab.output.renderOutput(dataTable, element);\n",
              "        const docLink = document.createElement('div');\n",
              "        docLink.innerHTML = docLinkHtml;\n",
              "        element.appendChild(docLink);\n",
              "      }\n",
              "    </script>\n",
              "  </div>\n",
              "\n",
              "\n",
              "<div id=\"df-dc6699d8-cded-4831-bf98-f69360fa8627\">\n",
              "  <button class=\"colab-df-quickchart\" onclick=\"quickchart('df-dc6699d8-cded-4831-bf98-f69360fa8627')\"\n",
              "            title=\"Suggest charts\"\n",
              "            style=\"display:none;\">\n",
              "\n",
              "<svg xmlns=\"http://www.w3.org/2000/svg\" height=\"24px\"viewBox=\"0 0 24 24\"\n",
              "     width=\"24px\">\n",
              "    <g>\n",
              "        <path d=\"M19 3H5c-1.1 0-2 .9-2 2v14c0 1.1.9 2 2 2h14c1.1 0 2-.9 2-2V5c0-1.1-.9-2-2-2zM9 17H7v-7h2v7zm4 0h-2V7h2v10zm4 0h-2v-4h2v4z\"/>\n",
              "    </g>\n",
              "</svg>\n",
              "  </button>\n",
              "\n",
              "<style>\n",
              "  .colab-df-quickchart {\n",
              "      --bg-color: #E8F0FE;\n",
              "      --fill-color: #1967D2;\n",
              "      --hover-bg-color: #E2EBFA;\n",
              "      --hover-fill-color: #174EA6;\n",
              "      --disabled-fill-color: #AAA;\n",
              "      --disabled-bg-color: #DDD;\n",
              "  }\n",
              "\n",
              "  [theme=dark] .colab-df-quickchart {\n",
              "      --bg-color: #3B4455;\n",
              "      --fill-color: #D2E3FC;\n",
              "      --hover-bg-color: #434B5C;\n",
              "      --hover-fill-color: #FFFFFF;\n",
              "      --disabled-bg-color: #3B4455;\n",
              "      --disabled-fill-color: #666;\n",
              "  }\n",
              "\n",
              "  .colab-df-quickchart {\n",
              "    background-color: var(--bg-color);\n",
              "    border: none;\n",
              "    border-radius: 50%;\n",
              "    cursor: pointer;\n",
              "    display: none;\n",
              "    fill: var(--fill-color);\n",
              "    height: 32px;\n",
              "    padding: 0;\n",
              "    width: 32px;\n",
              "  }\n",
              "\n",
              "  .colab-df-quickchart:hover {\n",
              "    background-color: var(--hover-bg-color);\n",
              "    box-shadow: 0 1px 2px rgba(60, 64, 67, 0.3), 0 1px 3px 1px rgba(60, 64, 67, 0.15);\n",
              "    fill: var(--button-hover-fill-color);\n",
              "  }\n",
              "\n",
              "  .colab-df-quickchart-complete:disabled,\n",
              "  .colab-df-quickchart-complete:disabled:hover {\n",
              "    background-color: var(--disabled-bg-color);\n",
              "    fill: var(--disabled-fill-color);\n",
              "    box-shadow: none;\n",
              "  }\n",
              "\n",
              "  .colab-df-spinner {\n",
              "    border: 2px solid var(--fill-color);\n",
              "    border-color: transparent;\n",
              "    border-bottom-color: var(--fill-color);\n",
              "    animation:\n",
              "      spin 1s steps(1) infinite;\n",
              "  }\n",
              "\n",
              "  @keyframes spin {\n",
              "    0% {\n",
              "      border-color: transparent;\n",
              "      border-bottom-color: var(--fill-color);\n",
              "      border-left-color: var(--fill-color);\n",
              "    }\n",
              "    20% {\n",
              "      border-color: transparent;\n",
              "      border-left-color: var(--fill-color);\n",
              "      border-top-color: var(--fill-color);\n",
              "    }\n",
              "    30% {\n",
              "      border-color: transparent;\n",
              "      border-left-color: var(--fill-color);\n",
              "      border-top-color: var(--fill-color);\n",
              "      border-right-color: var(--fill-color);\n",
              "    }\n",
              "    40% {\n",
              "      border-color: transparent;\n",
              "      border-right-color: var(--fill-color);\n",
              "      border-top-color: var(--fill-color);\n",
              "    }\n",
              "    60% {\n",
              "      border-color: transparent;\n",
              "      border-right-color: var(--fill-color);\n",
              "    }\n",
              "    80% {\n",
              "      border-color: transparent;\n",
              "      border-right-color: var(--fill-color);\n",
              "      border-bottom-color: var(--fill-color);\n",
              "    }\n",
              "    90% {\n",
              "      border-color: transparent;\n",
              "      border-bottom-color: var(--fill-color);\n",
              "    }\n",
              "  }\n",
              "</style>\n",
              "\n",
              "  <script>\n",
              "    async function quickchart(key) {\n",
              "      const quickchartButtonEl =\n",
              "        document.querySelector('#' + key + ' button');\n",
              "      quickchartButtonEl.disabled = true;  // To prevent multiple clicks.\n",
              "      quickchartButtonEl.classList.add('colab-df-spinner');\n",
              "      try {\n",
              "        const charts = await google.colab.kernel.invokeFunction(\n",
              "            'suggestCharts', [key], {});\n",
              "      } catch (error) {\n",
              "        console.error('Error during call to suggestCharts:', error);\n",
              "      }\n",
              "      quickchartButtonEl.classList.remove('colab-df-spinner');\n",
              "      quickchartButtonEl.classList.add('colab-df-quickchart-complete');\n",
              "    }\n",
              "    (() => {\n",
              "      let quickchartButtonEl =\n",
              "        document.querySelector('#df-dc6699d8-cded-4831-bf98-f69360fa8627 button');\n",
              "      quickchartButtonEl.style.display =\n",
              "        google.colab.kernel.accessAllowed ? 'block' : 'none';\n",
              "    })();\n",
              "  </script>\n",
              "</div>\n",
              "\n",
              "    </div>\n",
              "  </div>\n"
            ],
            "application/vnd.google.colaboratory.intrinsic+json": {
              "type": "dataframe",
              "variable_name": "df"
            }
          },
          "metadata": {},
          "execution_count": 12
        }
      ]
    },
    {
      "cell_type": "code",
      "source": [
        "df.shape"
      ],
      "metadata": {
        "colab": {
          "base_uri": "https://localhost:8080/"
        },
        "id": "Ygl782pUF5q7",
        "outputId": "27937e4a-dfc5-46c7-fdc5-b6520af3df26"
      },
      "execution_count": null,
      "outputs": [
        {
          "output_type": "execute_result",
          "data": {
            "text/plain": [
              "(54000, 22)"
            ]
          },
          "metadata": {},
          "execution_count": 13
        }
      ]
    },
    {
      "cell_type": "code",
      "source": [
        "df.isnull().sum()"
      ],
      "metadata": {
        "colab": {
          "base_uri": "https://localhost:8080/",
          "height": 774
        },
        "id": "iaK7H3zjhKRD",
        "outputId": "74e03e30-73b5-4d24-d19c-37de19ed68db"
      },
      "execution_count": null,
      "outputs": [
        {
          "output_type": "execute_result",
          "data": {
            "text/plain": [
              "Declaration ID                     0\n",
              "Date                               0\n",
              "Office ID                          0\n",
              "Process Type                       0\n",
              "Import Type                        0\n",
              "Import Use                         0\n",
              "Payment Type                       0\n",
              "Mode of Transport                  0\n",
              "Declarant ID                       0\n",
              "Importer ID                        0\n",
              "Seller ID                       5201\n",
              "Courier ID                     44462\n",
              "HS6 Code                           0\n",
              "Country of Departure               0\n",
              "Country of Origin                  0\n",
              "Tax Rate                           0\n",
              "Tax Type                           0\n",
              "Country of Origin Indicator        0\n",
              "Net Mass                           0\n",
              "Item Price                         0\n",
              "Fraud                              0\n",
              "Critical Fraud                     0\n",
              "dtype: int64"
            ],
            "text/html": [
              "<div>\n",
              "<style scoped>\n",
              "    .dataframe tbody tr th:only-of-type {\n",
              "        vertical-align: middle;\n",
              "    }\n",
              "\n",
              "    .dataframe tbody tr th {\n",
              "        vertical-align: top;\n",
              "    }\n",
              "\n",
              "    .dataframe thead th {\n",
              "        text-align: right;\n",
              "    }\n",
              "</style>\n",
              "<table border=\"1\" class=\"dataframe\">\n",
              "  <thead>\n",
              "    <tr style=\"text-align: right;\">\n",
              "      <th></th>\n",
              "      <th>0</th>\n",
              "    </tr>\n",
              "  </thead>\n",
              "  <tbody>\n",
              "    <tr>\n",
              "      <th>Declaration ID</th>\n",
              "      <td>0</td>\n",
              "    </tr>\n",
              "    <tr>\n",
              "      <th>Date</th>\n",
              "      <td>0</td>\n",
              "    </tr>\n",
              "    <tr>\n",
              "      <th>Office ID</th>\n",
              "      <td>0</td>\n",
              "    </tr>\n",
              "    <tr>\n",
              "      <th>Process Type</th>\n",
              "      <td>0</td>\n",
              "    </tr>\n",
              "    <tr>\n",
              "      <th>Import Type</th>\n",
              "      <td>0</td>\n",
              "    </tr>\n",
              "    <tr>\n",
              "      <th>Import Use</th>\n",
              "      <td>0</td>\n",
              "    </tr>\n",
              "    <tr>\n",
              "      <th>Payment Type</th>\n",
              "      <td>0</td>\n",
              "    </tr>\n",
              "    <tr>\n",
              "      <th>Mode of Transport</th>\n",
              "      <td>0</td>\n",
              "    </tr>\n",
              "    <tr>\n",
              "      <th>Declarant ID</th>\n",
              "      <td>0</td>\n",
              "    </tr>\n",
              "    <tr>\n",
              "      <th>Importer ID</th>\n",
              "      <td>0</td>\n",
              "    </tr>\n",
              "    <tr>\n",
              "      <th>Seller ID</th>\n",
              "      <td>5201</td>\n",
              "    </tr>\n",
              "    <tr>\n",
              "      <th>Courier ID</th>\n",
              "      <td>44462</td>\n",
              "    </tr>\n",
              "    <tr>\n",
              "      <th>HS6 Code</th>\n",
              "      <td>0</td>\n",
              "    </tr>\n",
              "    <tr>\n",
              "      <th>Country of Departure</th>\n",
              "      <td>0</td>\n",
              "    </tr>\n",
              "    <tr>\n",
              "      <th>Country of Origin</th>\n",
              "      <td>0</td>\n",
              "    </tr>\n",
              "    <tr>\n",
              "      <th>Tax Rate</th>\n",
              "      <td>0</td>\n",
              "    </tr>\n",
              "    <tr>\n",
              "      <th>Tax Type</th>\n",
              "      <td>0</td>\n",
              "    </tr>\n",
              "    <tr>\n",
              "      <th>Country of Origin Indicator</th>\n",
              "      <td>0</td>\n",
              "    </tr>\n",
              "    <tr>\n",
              "      <th>Net Mass</th>\n",
              "      <td>0</td>\n",
              "    </tr>\n",
              "    <tr>\n",
              "      <th>Item Price</th>\n",
              "      <td>0</td>\n",
              "    </tr>\n",
              "    <tr>\n",
              "      <th>Fraud</th>\n",
              "      <td>0</td>\n",
              "    </tr>\n",
              "    <tr>\n",
              "      <th>Critical Fraud</th>\n",
              "      <td>0</td>\n",
              "    </tr>\n",
              "  </tbody>\n",
              "</table>\n",
              "</div><br><label><b>dtype:</b> int64</label>"
            ]
          },
          "metadata": {},
          "execution_count": 14
        }
      ]
    },
    {
      "cell_type": "markdown",
      "source": [
        "In this data set there are 54000 rows. But in the column ''Seller ID'' there are 5201 null values and ''courier id'' 44462 null values. Both of them are crusial details. since there are 54000 rows remove null value of the seller id rows and removed the entire ''courier id '' column.\n"
      ],
      "metadata": {
        "id": "p8hYRsYLh7oJ"
      }
    },
    {
      "cell_type": "code",
      "source": [
        "df = df.dropna(subset=['Seller ID'])"
      ],
      "metadata": {
        "id": "OkphbRysiuJN"
      },
      "execution_count": null,
      "outputs": []
    },
    {
      "cell_type": "code",
      "source": [
        "df = df.drop(columns=['Courier ID'])"
      ],
      "metadata": {
        "id": "0z7HZIFojCzz"
      },
      "execution_count": null,
      "outputs": []
    },
    {
      "cell_type": "code",
      "source": [
        "print(df.info())"
      ],
      "metadata": {
        "colab": {
          "base_uri": "https://localhost:8080/"
        },
        "id": "WG6AJISRjJjD",
        "outputId": "80bccf67-3075-4f64-fd4a-6083272352b9"
      },
      "execution_count": null,
      "outputs": [
        {
          "output_type": "stream",
          "name": "stdout",
          "text": [
            "<class 'pandas.core.frame.DataFrame'>\n",
            "Index: 48799 entries, 0 to 53999\n",
            "Data columns (total 21 columns):\n",
            " #   Column                       Non-Null Count  Dtype  \n",
            "---  ------                       --------------  -----  \n",
            " 0   Declaration ID               48799 non-null  int64  \n",
            " 1   Date                         48799 non-null  object \n",
            " 2   Office ID                    48799 non-null  int64  \n",
            " 3   Process Type                 48799 non-null  object \n",
            " 4   Import Type                  48799 non-null  int64  \n",
            " 5   Import Use                   48799 non-null  int64  \n",
            " 6   Payment Type                 48799 non-null  int64  \n",
            " 7   Mode of Transport            48799 non-null  int64  \n",
            " 8   Declarant ID                 48799 non-null  object \n",
            " 9   Importer ID                  48799 non-null  object \n",
            " 10  Seller ID                    48799 non-null  object \n",
            " 11  HS6 Code                     48799 non-null  int64  \n",
            " 12  Country of Departure         48799 non-null  object \n",
            " 13  Country of Origin            48799 non-null  object \n",
            " 14  Tax Rate                     48799 non-null  float64\n",
            " 15  Tax Type                     48799 non-null  object \n",
            " 16  Country of Origin Indicator  48799 non-null  object \n",
            " 17  Net Mass                     48799 non-null  float64\n",
            " 18  Item Price                   48799 non-null  float64\n",
            " 19  Fraud                        48799 non-null  int64  \n",
            " 20  Critical Fraud               48799 non-null  int64  \n",
            "dtypes: float64(3), int64(9), object(9)\n",
            "memory usage: 8.2+ MB\n",
            "None\n"
          ]
        }
      ]
    },
    {
      "cell_type": "code",
      "source": [
        "df.isnull().sum()"
      ],
      "metadata": {
        "colab": {
          "base_uri": "https://localhost:8080/",
          "height": 743
        },
        "id": "AVfdUEZejNId",
        "outputId": "1348b59e-b679-42d8-8162-9ff6c87288fa"
      },
      "execution_count": null,
      "outputs": [
        {
          "output_type": "execute_result",
          "data": {
            "text/plain": [
              "Declaration ID                 0\n",
              "Date                           0\n",
              "Office ID                      0\n",
              "Process Type                   0\n",
              "Import Type                    0\n",
              "Import Use                     0\n",
              "Payment Type                   0\n",
              "Mode of Transport              0\n",
              "Declarant ID                   0\n",
              "Importer ID                    0\n",
              "Seller ID                      0\n",
              "HS6 Code                       0\n",
              "Country of Departure           0\n",
              "Country of Origin              0\n",
              "Tax Rate                       0\n",
              "Tax Type                       0\n",
              "Country of Origin Indicator    0\n",
              "Net Mass                       0\n",
              "Item Price                     0\n",
              "Fraud                          0\n",
              "Critical Fraud                 0\n",
              "dtype: int64"
            ],
            "text/html": [
              "<div>\n",
              "<style scoped>\n",
              "    .dataframe tbody tr th:only-of-type {\n",
              "        vertical-align: middle;\n",
              "    }\n",
              "\n",
              "    .dataframe tbody tr th {\n",
              "        vertical-align: top;\n",
              "    }\n",
              "\n",
              "    .dataframe thead th {\n",
              "        text-align: right;\n",
              "    }\n",
              "</style>\n",
              "<table border=\"1\" class=\"dataframe\">\n",
              "  <thead>\n",
              "    <tr style=\"text-align: right;\">\n",
              "      <th></th>\n",
              "      <th>0</th>\n",
              "    </tr>\n",
              "  </thead>\n",
              "  <tbody>\n",
              "    <tr>\n",
              "      <th>Declaration ID</th>\n",
              "      <td>0</td>\n",
              "    </tr>\n",
              "    <tr>\n",
              "      <th>Date</th>\n",
              "      <td>0</td>\n",
              "    </tr>\n",
              "    <tr>\n",
              "      <th>Office ID</th>\n",
              "      <td>0</td>\n",
              "    </tr>\n",
              "    <tr>\n",
              "      <th>Process Type</th>\n",
              "      <td>0</td>\n",
              "    </tr>\n",
              "    <tr>\n",
              "      <th>Import Type</th>\n",
              "      <td>0</td>\n",
              "    </tr>\n",
              "    <tr>\n",
              "      <th>Import Use</th>\n",
              "      <td>0</td>\n",
              "    </tr>\n",
              "    <tr>\n",
              "      <th>Payment Type</th>\n",
              "      <td>0</td>\n",
              "    </tr>\n",
              "    <tr>\n",
              "      <th>Mode of Transport</th>\n",
              "      <td>0</td>\n",
              "    </tr>\n",
              "    <tr>\n",
              "      <th>Declarant ID</th>\n",
              "      <td>0</td>\n",
              "    </tr>\n",
              "    <tr>\n",
              "      <th>Importer ID</th>\n",
              "      <td>0</td>\n",
              "    </tr>\n",
              "    <tr>\n",
              "      <th>Seller ID</th>\n",
              "      <td>0</td>\n",
              "    </tr>\n",
              "    <tr>\n",
              "      <th>HS6 Code</th>\n",
              "      <td>0</td>\n",
              "    </tr>\n",
              "    <tr>\n",
              "      <th>Country of Departure</th>\n",
              "      <td>0</td>\n",
              "    </tr>\n",
              "    <tr>\n",
              "      <th>Country of Origin</th>\n",
              "      <td>0</td>\n",
              "    </tr>\n",
              "    <tr>\n",
              "      <th>Tax Rate</th>\n",
              "      <td>0</td>\n",
              "    </tr>\n",
              "    <tr>\n",
              "      <th>Tax Type</th>\n",
              "      <td>0</td>\n",
              "    </tr>\n",
              "    <tr>\n",
              "      <th>Country of Origin Indicator</th>\n",
              "      <td>0</td>\n",
              "    </tr>\n",
              "    <tr>\n",
              "      <th>Net Mass</th>\n",
              "      <td>0</td>\n",
              "    </tr>\n",
              "    <tr>\n",
              "      <th>Item Price</th>\n",
              "      <td>0</td>\n",
              "    </tr>\n",
              "    <tr>\n",
              "      <th>Fraud</th>\n",
              "      <td>0</td>\n",
              "    </tr>\n",
              "    <tr>\n",
              "      <th>Critical Fraud</th>\n",
              "      <td>0</td>\n",
              "    </tr>\n",
              "  </tbody>\n",
              "</table>\n",
              "</div><br><label><b>dtype:</b> int64</label>"
            ]
          },
          "metadata": {},
          "execution_count": 18
        }
      ]
    },
    {
      "cell_type": "code",
      "source": [
        "df.nunique()"
      ],
      "metadata": {
        "colab": {
          "base_uri": "https://localhost:8080/",
          "height": 743
        },
        "id": "A_1dw_vDjQQR",
        "outputId": "9115159d-0159-48de-c83e-2a5eb82c63fc"
      },
      "execution_count": null,
      "outputs": [
        {
          "output_type": "execute_result",
          "data": {
            "text/plain": [
              "Declaration ID                 48799\n",
              "Date                             547\n",
              "Office ID                         43\n",
              "Process Type                       3\n",
              "Import Type                       28\n",
              "Import Use                        14\n",
              "Payment Type                      10\n",
              "Mode of Transport                  6\n",
              "Declarant ID                    1238\n",
              "Importer ID                    14297\n",
              "Seller ID                      12201\n",
              "HS6 Code                        2474\n",
              "Country of Departure             102\n",
              "Country of Origin                118\n",
              "Tax Rate                         118\n",
              "Tax Type                          48\n",
              "Country of Origin Indicator        6\n",
              "Net Mass                        5633\n",
              "Item Price                     15617\n",
              "Fraud                              2\n",
              "Critical Fraud                     3\n",
              "dtype: int64"
            ],
            "text/html": [
              "<div>\n",
              "<style scoped>\n",
              "    .dataframe tbody tr th:only-of-type {\n",
              "        vertical-align: middle;\n",
              "    }\n",
              "\n",
              "    .dataframe tbody tr th {\n",
              "        vertical-align: top;\n",
              "    }\n",
              "\n",
              "    .dataframe thead th {\n",
              "        text-align: right;\n",
              "    }\n",
              "</style>\n",
              "<table border=\"1\" class=\"dataframe\">\n",
              "  <thead>\n",
              "    <tr style=\"text-align: right;\">\n",
              "      <th></th>\n",
              "      <th>0</th>\n",
              "    </tr>\n",
              "  </thead>\n",
              "  <tbody>\n",
              "    <tr>\n",
              "      <th>Declaration ID</th>\n",
              "      <td>48799</td>\n",
              "    </tr>\n",
              "    <tr>\n",
              "      <th>Date</th>\n",
              "      <td>547</td>\n",
              "    </tr>\n",
              "    <tr>\n",
              "      <th>Office ID</th>\n",
              "      <td>43</td>\n",
              "    </tr>\n",
              "    <tr>\n",
              "      <th>Process Type</th>\n",
              "      <td>3</td>\n",
              "    </tr>\n",
              "    <tr>\n",
              "      <th>Import Type</th>\n",
              "      <td>28</td>\n",
              "    </tr>\n",
              "    <tr>\n",
              "      <th>Import Use</th>\n",
              "      <td>14</td>\n",
              "    </tr>\n",
              "    <tr>\n",
              "      <th>Payment Type</th>\n",
              "      <td>10</td>\n",
              "    </tr>\n",
              "    <tr>\n",
              "      <th>Mode of Transport</th>\n",
              "      <td>6</td>\n",
              "    </tr>\n",
              "    <tr>\n",
              "      <th>Declarant ID</th>\n",
              "      <td>1238</td>\n",
              "    </tr>\n",
              "    <tr>\n",
              "      <th>Importer ID</th>\n",
              "      <td>14297</td>\n",
              "    </tr>\n",
              "    <tr>\n",
              "      <th>Seller ID</th>\n",
              "      <td>12201</td>\n",
              "    </tr>\n",
              "    <tr>\n",
              "      <th>HS6 Code</th>\n",
              "      <td>2474</td>\n",
              "    </tr>\n",
              "    <tr>\n",
              "      <th>Country of Departure</th>\n",
              "      <td>102</td>\n",
              "    </tr>\n",
              "    <tr>\n",
              "      <th>Country of Origin</th>\n",
              "      <td>118</td>\n",
              "    </tr>\n",
              "    <tr>\n",
              "      <th>Tax Rate</th>\n",
              "      <td>118</td>\n",
              "    </tr>\n",
              "    <tr>\n",
              "      <th>Tax Type</th>\n",
              "      <td>48</td>\n",
              "    </tr>\n",
              "    <tr>\n",
              "      <th>Country of Origin Indicator</th>\n",
              "      <td>6</td>\n",
              "    </tr>\n",
              "    <tr>\n",
              "      <th>Net Mass</th>\n",
              "      <td>5633</td>\n",
              "    </tr>\n",
              "    <tr>\n",
              "      <th>Item Price</th>\n",
              "      <td>15617</td>\n",
              "    </tr>\n",
              "    <tr>\n",
              "      <th>Fraud</th>\n",
              "      <td>2</td>\n",
              "    </tr>\n",
              "    <tr>\n",
              "      <th>Critical Fraud</th>\n",
              "      <td>3</td>\n",
              "    </tr>\n",
              "  </tbody>\n",
              "</table>\n",
              "</div><br><label><b>dtype:</b> int64</label>"
            ]
          },
          "metadata": {},
          "execution_count": 19
        }
      ]
    },
    {
      "cell_type": "code",
      "source": [
        "\n",
        "column_count = df.shape[1]\n",
        "print(f\"The DataFrame has {column_count} columns.\")\n"
      ],
      "metadata": {
        "colab": {
          "base_uri": "https://localhost:8080/"
        },
        "id": "PR8_NiTGjXgx",
        "outputId": "2d791fbe-44af-4d95-a17c-3b0541cadfc0"
      },
      "execution_count": null,
      "outputs": [
        {
          "output_type": "stream",
          "name": "stdout",
          "text": [
            "The DataFrame has 21 columns.\n"
          ]
        }
      ]
    },
    {
      "cell_type": "code",
      "source": [
        "fraud_total_count = df['Declaration ID'].count()\n",
        "fraud_value_counts = df['Declaration ID'].value_counts()\n",
        "print(fraud_value_counts)\n",
        "\n",
        "fraud_total_count = df['Fraud'].count()\n",
        "fraud_value_counts = df['Fraud'].value_counts()\n",
        "print(fraud_value_counts)\n",
        "\n",
        "fraud_total_count = df['Critical Fraud'].count()\n",
        "fraud_value_counts = df['Critical Fraud'].value_counts()\n",
        "print(fraud_value_counts)"
      ],
      "metadata": {
        "colab": {
          "base_uri": "https://localhost:8080/"
        },
        "id": "OR9JOe_BJ2ki",
        "outputId": "2d27bbb1-ee76-4dd9-e06a-dbf7fac3871f"
      },
      "execution_count": null,
      "outputs": [
        {
          "output_type": "stream",
          "name": "stdout",
          "text": [
            "Declaration ID\n",
            "97061800    1\n",
            "49189825    1\n",
            "42732342    1\n",
            "70502727    1\n",
            "87142567    1\n",
            "           ..\n",
            "28078133    1\n",
            "11076640    1\n",
            "33425392    1\n",
            "34617551    1\n",
            "24376062    1\n",
            "Name: count, Length: 48799, dtype: int64\n",
            "Fraud\n",
            "0    38212\n",
            "1    10587\n",
            "Name: count, dtype: int64\n",
            "Critical Fraud\n",
            "0    38212\n",
            "1    10097\n",
            "2      490\n",
            "Name: count, dtype: int64\n"
          ]
        }
      ]
    },
    {
      "cell_type": "markdown",
      "source": [],
      "metadata": {
        "id": "HlBDPFjdkBs9"
      }
    },
    {
      "cell_type": "code",
      "source": [
        "column_types = df.dtypes\n",
        "print(column_types)"
      ],
      "metadata": {
        "colab": {
          "base_uri": "https://localhost:8080/"
        },
        "id": "7lbV5qWOSDXC",
        "outputId": "5225f98b-90f5-406c-f2e1-60f752cb1cb1"
      },
      "execution_count": null,
      "outputs": [
        {
          "output_type": "stream",
          "name": "stdout",
          "text": [
            "Declaration ID                   int64\n",
            "Date                            object\n",
            "Office ID                        int64\n",
            "Process Type                    object\n",
            "Import Type                      int64\n",
            "Import Use                       int64\n",
            "Payment Type                     int64\n",
            "Mode of Transport                int64\n",
            "Declarant ID                    object\n",
            "Importer ID                     object\n",
            "Seller ID                       object\n",
            "HS6 Code                         int64\n",
            "Country of Departure            object\n",
            "Country of Origin               object\n",
            "Tax Rate                       float64\n",
            "Tax Type                        object\n",
            "Country of Origin Indicator     object\n",
            "Net Mass                       float64\n",
            "Item Price                     float64\n",
            "Fraud                            int64\n",
            "Critical Fraud                   int64\n",
            "dtype: object\n"
          ]
        }
      ]
    },
    {
      "cell_type": "code",
      "source": [
        "print(df.head())"
      ],
      "metadata": {
        "colab": {
          "base_uri": "https://localhost:8080/"
        },
        "id": "yOVG8HbhJhGl",
        "outputId": "5ba1afc7-ba8c-4ded-b47d-2529c2b2951d"
      },
      "execution_count": null,
      "outputs": [
        {
          "output_type": "stream",
          "name": "stdout",
          "text": [
            "   Declaration ID        Date  Office ID Process Type  Import Type  \\\n",
            "0        97061800  2020-01-01         30            B           11   \n",
            "1        85945189  2020-01-01         40            B           11   \n",
            "2        77854751  2020-01-01         20            B           11   \n",
            "3        46925060  2020-01-01         40            B           11   \n",
            "5        38459034  2020-01-01         40            B           11   \n",
            "\n",
            "   Import Use  Payment Type  Mode of Transport Declarant ID Importer ID  ...  \\\n",
            "0          21            11                 10      ZZR1LT6     QLRUBN9  ...   \n",
            "1          21            11                 40      SWF9S4X     7JD1S2X  ...   \n",
            "2          21            11                 40      X4XT6P8     WI9O3I5  ...   \n",
            "3          21            43                 40      K7LCQTZ     6LI9721  ...   \n",
            "5          21            11                 10      OZB7KED     2EIESGV  ...   \n",
            "\n",
            "  HS6 Code  Country of Departure Country of Origin Tax Rate  Tax Type  \\\n",
            "0   440890                    BE                BE      0.0      FEU1   \n",
            "1   690722                    CN                CN      8.0         A   \n",
            "2   620822                    CN                CN      5.2      FCN1   \n",
            "3   940350                    VN                VN      0.0         C   \n",
            "5   851712                    SG                CN      0.0         C   \n",
            "\n",
            "  Country of Origin Indicator Net Mass  Item Price  Fraud  Critical Fraud  \n",
            "0                           G    108.0   372254.40      0               0  \n",
            "1                           Y  11352.0   375751.20      0               0  \n",
            "2                           B     20.7     5353.02      0               0  \n",
            "3                           Y   9218.0  1477645.40      0               0  \n",
            "5                           S      2.0    29078.80      1               1  \n",
            "\n",
            "[5 rows x 21 columns]\n"
          ]
        }
      ]
    },
    {
      "cell_type": "code",
      "source": [
        "df = df.drop(columns=['Date'])"
      ],
      "metadata": {
        "id": "35D5qQspTzlN"
      },
      "execution_count": null,
      "outputs": []
    },
    {
      "cell_type": "code",
      "source": [
        "print(df.head())"
      ],
      "metadata": {
        "colab": {
          "base_uri": "https://localhost:8080/"
        },
        "id": "ShxTpzOaT0_V",
        "outputId": "aae4f6a4-3641-48d3-e943-5fcca50b8737"
      },
      "execution_count": null,
      "outputs": [
        {
          "output_type": "stream",
          "name": "stdout",
          "text": [
            "   Declaration ID  Office ID Process Type  Import Type  Import Use  \\\n",
            "0        97061800         30            B           11          21   \n",
            "1        85945189         40            B           11          21   \n",
            "2        77854751         20            B           11          21   \n",
            "3        46925060         40            B           11          21   \n",
            "5        38459034         40            B           11          21   \n",
            "\n",
            "   Payment Type  Mode of Transport Declarant ID Importer ID Seller ID  \\\n",
            "0            11                 10      ZZR1LT6     QLRUBN9   0VKY2BR   \n",
            "1            11                 40      SWF9S4X     7JD1S2X   8WDKMC6   \n",
            "2            11                 40      X4XT6P8     WI9O3I5   4DT3246   \n",
            "3            43                 40      K7LCQTZ     6LI9721   PKUOG2P   \n",
            "5            11                 10      OZB7KED     2EIESGV   WLTGD61   \n",
            "\n",
            "   HS6 Code Country of Departure Country of Origin  Tax Rate Tax Type  \\\n",
            "0    440890                   BE                BE       0.0     FEU1   \n",
            "1    690722                   CN                CN       8.0        A   \n",
            "2    620822                   CN                CN       5.2     FCN1   \n",
            "3    940350                   VN                VN       0.0        C   \n",
            "5    851712                   SG                CN       0.0        C   \n",
            "\n",
            "  Country of Origin Indicator  Net Mass  Item Price  Fraud  Critical Fraud  \n",
            "0                           G     108.0   372254.40      0               0  \n",
            "1                           Y   11352.0   375751.20      0               0  \n",
            "2                           B      20.7     5353.02      0               0  \n",
            "3                           Y    9218.0  1477645.40      0               0  \n",
            "5                           S       2.0    29078.80      1               1  \n"
          ]
        }
      ]
    },
    {
      "cell_type": "code",
      "source": [
        "import pandas as pd\n",
        "import xgboost as xgb\n",
        "from sklearn.model_selection import train_test_split\n",
        "from sklearn.metrics import classification_report\n",
        "\n",
        "# Load your dataset (if not already loaded)\n",
        "# df = pd.read_csv('/path/to/your/file.csv')\n",
        "\n",
        "# Convert categorical columns to numeric using one-hot encoding\n",
        "df = pd.get_dummies(df, columns=['Process Type', 'Declarant ID', 'Importer ID', 'Seller ID', 'Country of Departure', 'Country of Origin', 'Tax Type', 'Country of Origin Indicator'])"
      ],
      "metadata": {
        "id": "IANhUn61JtrG"
      },
      "execution_count": null,
      "outputs": []
    },
    {
      "cell_type": "code",
      "source": [
        "# Split data into features and target variables\n",
        "X = df.drop(columns=['Fraud', 'Critical Fraud'])\n",
        "y_fraud = df['Fraud']\n",
        "y_critical_fraud = df['Critical Fraud']"
      ],
      "metadata": {
        "id": "q3PIx7sfKECT"
      },
      "execution_count": null,
      "outputs": []
    },
    {
      "cell_type": "code",
      "source": [
        "# Train-test split\n",
        "X_train, X_test, y_train_fraud, y_test_fraud = train_test_split(X, y_fraud, test_size=0.3, random_state=42)\n",
        "X_train, X_test, y_train_critical, y_test_critical = train_test_split(X, y_critical_fraud, test_size=0.3, random_state=42)"
      ],
      "metadata": {
        "id": "ZQCm10-rKD2T"
      },
      "execution_count": null,
      "outputs": []
    },
    {
      "cell_type": "code",
      "source": [
        "# Initialize and train XGBoost model for Fraud\n",
        "model_fraud = xgb.XGBClassifier(use_label_encoder=False, eval_metric='logloss')\n",
        "model_fraud.fit(X_train, y_train_fraud)"
      ],
      "metadata": {
        "id": "QFT4WTVFKRWV"
      },
      "execution_count": null,
      "outputs": []
    },
    {
      "cell_type": "code",
      "source": [
        "# Make predictions and evaluate\n",
        "y_pred_fraud = model_fraud.predict(X_test)\n",
        "print(\"Fraud Classification Report:\\n\", classification_report(y_test_fraud, y_pred_fraud))\n",
        "\n",
        "# Initialize and train XGBoost model for Critical Fraud\n",
        "model_critical = xgb.XGBClassifier(use_label_encoder=False, eval_metric='logloss')\n",
        "model_critical.fit(X_train, y_train_critical)\n",
        "\n",
        "# Make predictions and evaluate\n",
        "y_pred_critical = model_critical.predict(X_test)\n",
        "print(\"Critical Fraud Classification Report:\\n\", classification_report(y_test_critical, y_pred_critical))"
      ],
      "metadata": {
        "id": "00k5TNf5Kyse"
      },
      "execution_count": null,
      "outputs": []
    },
    {
      "cell_type": "code",
      "source": [],
      "metadata": {
        "id": "o2Dw05fjKywF"
      },
      "execution_count": null,
      "outputs": []
    },
    {
      "cell_type": "code",
      "source": [
        "import pandas as pd\n",
        "import xgboost as xgb\n",
        "from sklearn.model_selection import train_test_split\n",
        "from sklearn.metrics import classification_report\n",
        "\n",
        "# Load your dataset (if not already loaded)\n",
        "# df = pd.read_csv('/path/to/your/file.csv')\n",
        "\n",
        "# Convert categorical columns to numeric using one-hot encoding\n",
        "df = pd.get_dummies(df, columns=['Process Type', 'Declarant ID', 'Importer ID', 'Seller ID', 'Country of Departure', 'Country of Origin', 'Tax Type', 'Country of Origin Indicator'])\n",
        "\n",
        "# Check the resulting DataFrame\n",
        "# print(df.head())\n",
        "\n",
        "# Split data into features and target variables\n",
        "X = df.drop(columns=['Fraud', 'Critical Fraud'])\n",
        "y_fraud = df['Fraud']\n",
        "y_critical_fraud = df['Critical Fraud']\n",
        "\n",
        "# Train-test split\n",
        "X_train, X_test, y_train_fraud, y_test_fraud = train_test_split(X, y_fraud, test_size=0.3, random_state=42)\n",
        "X_train, X_test, y_train_critical, y_test_critical = train_test_split(X, y_critical_fraud, test_size=0.3, random_state=42)\n",
        "\n",
        "# Initialize and train XGBoost model for Fraud\n",
        "model_fraud = xgb.XGBClassifier(use_label_encoder=False, eval_metric='logloss')\n",
        "model_fraud.fit(X_train, y_train_fraud)\n",
        "\n",
        "# Make predictions and evaluate\n",
        "y_pred_fraud = model_fraud.predict(X_test)\n",
        "print(\"Fraud Classification Report:\\n\", classification_report(y_test_fraud, y_pred_fraud))\n",
        "\n",
        "# Initialize and train XGBoost model for Critical Fraud\n",
        "model_critical = xgb.XGBClassifier(use_label_encoder=False, eval_metric='logloss')\n",
        "model_critical.fit(X_train, y_train_critical)\n",
        "\n",
        "# Make predictions and evaluate\n",
        "y_pred_critical = model_critical.predict(X_test)\n",
        "print(\"Critical Fraud Classification Report:\\n\", classification_report(y_test_critical, y_pred_critical))\n"
      ],
      "metadata": {
        "colab": {
          "base_uri": "https://localhost:8080/",
          "height": 373
        },
        "id": "hvG_D4w7SwKa",
        "outputId": "1cd3aeaa-3f2e-4a2e-cb22-2778998839c8"
      },
      "execution_count": null,
      "outputs": [
        {
          "output_type": "error",
          "ename": "KeyError",
          "evalue": "\"None of [Index(['Process Type', 'Declarant ID', 'Importer ID', 'Seller ID',\\n       'Country of Departure', 'Country of Origin', 'Tax Type',\\n       'Country of Origin Indicator'],\\n      dtype='object')] are in the [columns]\"",
          "traceback": [
            "\u001b[0;31m---------------------------------------------------------------------------\u001b[0m",
            "\u001b[0;31mKeyError\u001b[0m                                  Traceback (most recent call last)",
            "\u001b[0;32m<ipython-input-25-3236470ae460>\u001b[0m in \u001b[0;36m<cell line: 10>\u001b[0;34m()\u001b[0m\n\u001b[1;32m      8\u001b[0m \u001b[0;34m\u001b[0m\u001b[0m\n\u001b[1;32m      9\u001b[0m \u001b[0;31m# Convert categorical columns to numeric using one-hot encoding\u001b[0m\u001b[0;34m\u001b[0m\u001b[0;34m\u001b[0m\u001b[0m\n\u001b[0;32m---> 10\u001b[0;31m df = pd.get_dummies(df, columns=['Process Type', 'Declarant ID', 'Importer ID', 'Seller ID',\n\u001b[0m\u001b[1;32m     11\u001b[0m                                  'Country of Departure', 'Country of Origin', 'Tax Type', 'Country of Origin Indicator'])\n\u001b[1;32m     12\u001b[0m \u001b[0;34m\u001b[0m\u001b[0m\n",
            "\u001b[0;32m/usr/local/lib/python3.10/dist-packages/pandas/core/reshape/encoding.py\u001b[0m in \u001b[0;36mget_dummies\u001b[0;34m(data, prefix, prefix_sep, dummy_na, columns, sparse, drop_first, dtype)\u001b[0m\n\u001b[1;32m    162\u001b[0m             \u001b[0;32mraise\u001b[0m \u001b[0mTypeError\u001b[0m\u001b[0;34m(\u001b[0m\u001b[0;34m\"Input must be a list-like for parameter `columns`\"\u001b[0m\u001b[0;34m)\u001b[0m\u001b[0;34m\u001b[0m\u001b[0;34m\u001b[0m\u001b[0m\n\u001b[1;32m    163\u001b[0m         \u001b[0;32melse\u001b[0m\u001b[0;34m:\u001b[0m\u001b[0;34m\u001b[0m\u001b[0;34m\u001b[0m\u001b[0m\n\u001b[0;32m--> 164\u001b[0;31m             \u001b[0mdata_to_encode\u001b[0m \u001b[0;34m=\u001b[0m \u001b[0mdata\u001b[0m\u001b[0;34m[\u001b[0m\u001b[0mcolumns\u001b[0m\u001b[0;34m]\u001b[0m\u001b[0;34m\u001b[0m\u001b[0;34m\u001b[0m\u001b[0m\n\u001b[0m\u001b[1;32m    165\u001b[0m \u001b[0;34m\u001b[0m\u001b[0m\n\u001b[1;32m    166\u001b[0m         \u001b[0;31m# validate prefixes and separator to avoid silently dropping cols\u001b[0m\u001b[0;34m\u001b[0m\u001b[0;34m\u001b[0m\u001b[0m\n",
            "\u001b[0;32m/usr/local/lib/python3.10/dist-packages/pandas/core/frame.py\u001b[0m in \u001b[0;36m__getitem__\u001b[0;34m(self, key)\u001b[0m\n\u001b[1;32m   3897\u001b[0m             \u001b[0;32mif\u001b[0m \u001b[0mis_iterator\u001b[0m\u001b[0;34m(\u001b[0m\u001b[0mkey\u001b[0m\u001b[0;34m)\u001b[0m\u001b[0;34m:\u001b[0m\u001b[0;34m\u001b[0m\u001b[0;34m\u001b[0m\u001b[0m\n\u001b[1;32m   3898\u001b[0m                 \u001b[0mkey\u001b[0m \u001b[0;34m=\u001b[0m \u001b[0mlist\u001b[0m\u001b[0;34m(\u001b[0m\u001b[0mkey\u001b[0m\u001b[0;34m)\u001b[0m\u001b[0;34m\u001b[0m\u001b[0;34m\u001b[0m\u001b[0m\n\u001b[0;32m-> 3899\u001b[0;31m             \u001b[0mindexer\u001b[0m \u001b[0;34m=\u001b[0m \u001b[0mself\u001b[0m\u001b[0;34m.\u001b[0m\u001b[0mcolumns\u001b[0m\u001b[0;34m.\u001b[0m\u001b[0m_get_indexer_strict\u001b[0m\u001b[0;34m(\u001b[0m\u001b[0mkey\u001b[0m\u001b[0;34m,\u001b[0m \u001b[0;34m\"columns\"\u001b[0m\u001b[0;34m)\u001b[0m\u001b[0;34m[\u001b[0m\u001b[0;36m1\u001b[0m\u001b[0;34m]\u001b[0m\u001b[0;34m\u001b[0m\u001b[0;34m\u001b[0m\u001b[0m\n\u001b[0m\u001b[1;32m   3900\u001b[0m \u001b[0;34m\u001b[0m\u001b[0m\n\u001b[1;32m   3901\u001b[0m         \u001b[0;31m# take() does not accept boolean indexers\u001b[0m\u001b[0;34m\u001b[0m\u001b[0;34m\u001b[0m\u001b[0m\n",
            "\u001b[0;32m/usr/local/lib/python3.10/dist-packages/pandas/core/indexes/base.py\u001b[0m in \u001b[0;36m_get_indexer_strict\u001b[0;34m(self, key, axis_name)\u001b[0m\n\u001b[1;32m   6113\u001b[0m             \u001b[0mkeyarr\u001b[0m\u001b[0;34m,\u001b[0m \u001b[0mindexer\u001b[0m\u001b[0;34m,\u001b[0m \u001b[0mnew_indexer\u001b[0m \u001b[0;34m=\u001b[0m \u001b[0mself\u001b[0m\u001b[0;34m.\u001b[0m\u001b[0m_reindex_non_unique\u001b[0m\u001b[0;34m(\u001b[0m\u001b[0mkeyarr\u001b[0m\u001b[0;34m)\u001b[0m\u001b[0;34m\u001b[0m\u001b[0;34m\u001b[0m\u001b[0m\n\u001b[1;32m   6114\u001b[0m \u001b[0;34m\u001b[0m\u001b[0m\n\u001b[0;32m-> 6115\u001b[0;31m         \u001b[0mself\u001b[0m\u001b[0;34m.\u001b[0m\u001b[0m_raise_if_missing\u001b[0m\u001b[0;34m(\u001b[0m\u001b[0mkeyarr\u001b[0m\u001b[0;34m,\u001b[0m \u001b[0mindexer\u001b[0m\u001b[0;34m,\u001b[0m \u001b[0maxis_name\u001b[0m\u001b[0;34m)\u001b[0m\u001b[0;34m\u001b[0m\u001b[0;34m\u001b[0m\u001b[0m\n\u001b[0m\u001b[1;32m   6116\u001b[0m \u001b[0;34m\u001b[0m\u001b[0m\n\u001b[1;32m   6117\u001b[0m         \u001b[0mkeyarr\u001b[0m \u001b[0;34m=\u001b[0m \u001b[0mself\u001b[0m\u001b[0;34m.\u001b[0m\u001b[0mtake\u001b[0m\u001b[0;34m(\u001b[0m\u001b[0mindexer\u001b[0m\u001b[0;34m)\u001b[0m\u001b[0;34m\u001b[0m\u001b[0;34m\u001b[0m\u001b[0m\n",
            "\u001b[0;32m/usr/local/lib/python3.10/dist-packages/pandas/core/indexes/base.py\u001b[0m in \u001b[0;36m_raise_if_missing\u001b[0;34m(self, key, indexer, axis_name)\u001b[0m\n\u001b[1;32m   6174\u001b[0m                 \u001b[0;32mif\u001b[0m \u001b[0muse_interval_msg\u001b[0m\u001b[0;34m:\u001b[0m\u001b[0;34m\u001b[0m\u001b[0;34m\u001b[0m\u001b[0m\n\u001b[1;32m   6175\u001b[0m                     \u001b[0mkey\u001b[0m \u001b[0;34m=\u001b[0m \u001b[0mlist\u001b[0m\u001b[0;34m(\u001b[0m\u001b[0mkey\u001b[0m\u001b[0;34m)\u001b[0m\u001b[0;34m\u001b[0m\u001b[0;34m\u001b[0m\u001b[0m\n\u001b[0;32m-> 6176\u001b[0;31m                 \u001b[0;32mraise\u001b[0m \u001b[0mKeyError\u001b[0m\u001b[0;34m(\u001b[0m\u001b[0;34mf\"None of [{key}] are in the [{axis_name}]\"\u001b[0m\u001b[0;34m)\u001b[0m\u001b[0;34m\u001b[0m\u001b[0;34m\u001b[0m\u001b[0m\n\u001b[0m\u001b[1;32m   6177\u001b[0m \u001b[0;34m\u001b[0m\u001b[0m\n\u001b[1;32m   6178\u001b[0m             \u001b[0mnot_found\u001b[0m \u001b[0;34m=\u001b[0m \u001b[0mlist\u001b[0m\u001b[0;34m(\u001b[0m\u001b[0mensure_index\u001b[0m\u001b[0;34m(\u001b[0m\u001b[0mkey\u001b[0m\u001b[0;34m)\u001b[0m\u001b[0;34m[\u001b[0m\u001b[0mmissing_mask\u001b[0m\u001b[0;34m.\u001b[0m\u001b[0mnonzero\u001b[0m\u001b[0;34m(\u001b[0m\u001b[0;34m)\u001b[0m\u001b[0;34m[\u001b[0m\u001b[0;36m0\u001b[0m\u001b[0;34m]\u001b[0m\u001b[0;34m]\u001b[0m\u001b[0;34m.\u001b[0m\u001b[0munique\u001b[0m\u001b[0;34m(\u001b[0m\u001b[0;34m)\u001b[0m\u001b[0;34m)\u001b[0m\u001b[0;34m\u001b[0m\u001b[0;34m\u001b[0m\u001b[0m\n",
            "\u001b[0;31mKeyError\u001b[0m: \"None of [Index(['Process Type', 'Declarant ID', 'Importer ID', 'Seller ID',\\n       'Country of Departure', 'Country of Origin', 'Tax Type',\\n       'Country of Origin Indicator'],\\n      dtype='object')] are in the [columns]\""
          ]
        }
      ]
    },
    {
      "cell_type": "code",
      "source": [
        "import joblib\n",
        "\n",
        "# Save the XGBoost model for Fraud\n",
        "joblib.dump(model_fraud, 'xgboost_fraud_model.pkl')\n",
        "\n",
        "# Save the XGBoost model for Critical Fraud\n",
        "joblib.dump(model_critical, 'xgboost_critical_fraud_model.pkl')\n"
      ],
      "metadata": {
        "id": "fE-3cdu0Zc-U"
      },
      "execution_count": null,
      "outputs": []
    },
    {
      "cell_type": "code",
      "source": [
        "import shap\n",
        "import xgboost as xgb\n",
        "import pandas as pd\n",
        "\n",
        "# Assuming you have trained your XGBoost model and have your data prepared\n",
        "# model_fraud and X_train are previously defined\n",
        "\n",
        "# Create a SHAP explainer object\n",
        "explainer = shap.Explainer(model_fraud, X_train)\n",
        "\n",
        "# Compute SHAP values for the test set\n",
        "shap_values = explainer(X_test)\n",
        "\n",
        "# Summary plot of SHAP values\n",
        "shap.summary_plot(shap_values, X_test)\n",
        "\n",
        "# Force plot for a single instance (optional, requires Jupyter notebook or similar environment)\n",
        "# shap.force_plot(explainer.expected_value, shap_values[0], X_test.iloc[0])\n"
      ],
      "metadata": {
        "id": "eibKDADkakvA"
      },
      "execution_count": null,
      "outputs": []
    }
  ]
}